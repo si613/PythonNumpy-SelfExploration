{
 "cells": [
  {
   "cell_type": "code",
   "execution_count": 1,
   "id": "b6ad6d07",
   "metadata": {},
   "outputs": [],
   "source": [
    "import numpy as np"
   ]
  },
  {
   "cell_type": "markdown",
   "id": "252cfb99",
   "metadata": {},
   "source": [
    "## INTERQUARTILE RANGE"
   ]
  },
  {
   "cell_type": "code",
   "execution_count": 4,
   "id": "56741e6f",
   "metadata": {},
   "outputs": [
    {
     "data": {
      "text/plain": [
       "array([97, 95, 78, 98, 85, 88, 66, 79, 50, 53, 41, 73, 82, 87, 70, 83, 50,\n",
       "       96, 82, 90])"
      ]
     },
     "execution_count": 4,
     "metadata": {},
     "output_type": "execute_result"
    }
   ],
   "source": [
    "array = np.random.randint(40,100, size=20)\n",
    "array"
   ]
  },
  {
   "cell_type": "code",
   "execution_count": 5,
   "id": "2b3b6237",
   "metadata": {},
   "outputs": [
    {
     "data": {
      "text/plain": [
       "array([41, 50, 50, 53, 66, 70, 73, 78, 79, 82, 82, 83, 85, 87, 88, 90, 95,\n",
       "       96, 97, 98])"
      ]
     },
     "execution_count": 5,
     "metadata": {},
     "output_type": "execute_result"
    }
   ],
   "source": [
    "# sorting the array in asc order\n",
    "sort_arr = np.sort(array)\n",
    "sort_arr"
   ]
  },
  {
   "cell_type": "code",
   "execution_count": 6,
   "id": "890a0d87",
   "metadata": {},
   "outputs": [
    {
     "data": {
      "text/plain": [
       "57"
      ]
     },
     "execution_count": 6,
     "metadata": {},
     "output_type": "execute_result"
    }
   ],
   "source": [
    "#calculating range\n",
    "\n",
    "arr_range = np.max(sort_arr) - np.min(sort_arr)\n",
    "arr_range"
   ]
  },
  {
   "cell_type": "code",
   "execution_count": 7,
   "id": "2141a3da",
   "metadata": {},
   "outputs": [
    {
     "data": {
      "text/plain": [
       "69.0"
      ]
     },
     "execution_count": 7,
     "metadata": {},
     "output_type": "execute_result"
    }
   ],
   "source": [
    "# First quartile\n",
    "q1 = np.percentile(sort_arr, 25)\n",
    "q1"
   ]
  },
  {
   "cell_type": "code",
   "execution_count": 8,
   "id": "bcb05cc2",
   "metadata": {},
   "outputs": [
    {
     "data": {
      "text/plain": [
       "88.5"
      ]
     },
     "execution_count": 8,
     "metadata": {},
     "output_type": "execute_result"
    }
   ],
   "source": [
    "# Third Quartile\n",
    "q3 = np.percentile(sort_arr, 75)\n",
    "q3"
   ]
  },
  {
   "cell_type": "code",
   "execution_count": 10,
   "id": "a34dfcae",
   "metadata": {},
   "outputs": [
    {
     "data": {
      "text/plain": [
       "19.5"
      ]
     },
     "execution_count": 10,
     "metadata": {},
     "output_type": "execute_result"
    }
   ],
   "source": [
    "#Interquartile Range (IQR)\n",
    "iqr = q3 - q1\n",
    "iqr"
   ]
  },
  {
   "cell_type": "code",
   "execution_count": 11,
   "id": "212e8c25",
   "metadata": {},
   "outputs": [
    {
     "data": {
      "text/plain": [
       "39.75"
      ]
     },
     "execution_count": 11,
     "metadata": {},
     "output_type": "execute_result"
    }
   ],
   "source": [
    "lower_bound = q1 - 1.5 * iqr\n",
    "lower_bound"
   ]
  },
  {
   "cell_type": "code",
   "execution_count": 12,
   "id": "3e2874a3",
   "metadata": {},
   "outputs": [
    {
     "data": {
      "text/plain": [
       "117.75"
      ]
     },
     "execution_count": 12,
     "metadata": {},
     "output_type": "execute_result"
    }
   ],
   "source": [
    "upper_bound = q3 + 1.5 * iqr\n",
    "upper_bound"
   ]
  },
  {
   "cell_type": "code",
   "execution_count": 13,
   "id": "a1c0abbe",
   "metadata": {},
   "outputs": [
    {
     "data": {
      "text/plain": [
       "[]"
      ]
     },
     "execution_count": 13,
     "metadata": {},
     "output_type": "execute_result"
    }
   ],
   "source": [
    "#Outliers\n",
    "suspected_outliers = [x for x in sort_arr if x < lower_bound or x > upper_bound]\n",
    "\n",
    "suspected_outliers"
   ]
  },
  {
   "cell_type": "code",
   "execution_count": null,
   "id": "79d6b0bd",
   "metadata": {},
   "outputs": [],
   "source": []
  }
 ],
 "metadata": {
  "kernelspec": {
   "display_name": "Python 3 (ipykernel)",
   "language": "python",
   "name": "python3"
  },
  "language_info": {
   "codemirror_mode": {
    "name": "ipython",
    "version": 3
   },
   "file_extension": ".py",
   "mimetype": "text/x-python",
   "name": "python",
   "nbconvert_exporter": "python",
   "pygments_lexer": "ipython3",
   "version": "3.10.9"
  }
 },
 "nbformat": 4,
 "nbformat_minor": 5
}
