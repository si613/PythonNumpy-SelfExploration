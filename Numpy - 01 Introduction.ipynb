{
 "cells": [
  {
   "cell_type": "markdown",
   "id": "260c0cf9",
   "metadata": {},
   "source": [
    "# Introduction to Numpy"
   ]
  },
  {
   "cell_type": "markdown",
   "id": "edb06194",
   "metadata": {},
   "source": [
    "- Stands for Numerical Python and is the Core python library for numerical computations\n",
    "- Provides functionalities to make multi-dimensional arrays (1D, 2D, 3D or nD arrays)\n",
    "\n",
    "Numpy uses 'Arrays' to handle the data\n",
    "    'Arrays' is a datatype. \n",
    "Arrays are similar to lists in python\n",
    "-the property here is that arrays always have homogenous data (similar data type)\n",
    "\n",
    "- The advantages of using Numpy is Memory efficient, Faster, lot of convenience and functionalties.\n",
    "- Numpy is built on C language which makes it so much faster."
   ]
  },
  {
   "cell_type": "markdown",
   "id": "389f7d11",
   "metadata": {},
   "source": [
    "In NumPy, dimensions are called **axes**. In a 2-d array above, there are two axes. \n",
    "\n",
    "In NumPy terminology, for 2-D arrays:\n",
    "* ```axis = 0``` refers to the axis running vertically downwards across rows\n",
    "* ```axis = 1``` refers to the axis running horizontally across columns\n",
    "\n",
    "\n",
    " 1D Array is called Vector, 2D Array is called Matrix, nD Array is called Tensor"
   ]
  },
  {
   "cell_type": "code",
   "execution_count": 2,
   "id": "2f2c19ca",
   "metadata": {},
   "outputs": [],
   "source": [
    "import numpy as np"
   ]
  },
  {
   "cell_type": "markdown",
   "id": "f8cfa859",
   "metadata": {},
   "source": [
    "## Creating Numpy Arrays "
   ]
  },
  {
   "cell_type": "code",
   "execution_count": 3,
   "id": "668db4d0",
   "metadata": {},
   "outputs": [
    {
     "data": {
      "text/plain": [
       "array([10, 20, 30, 40, 50, 60, 70])"
      ]
     },
     "execution_count": 3,
     "metadata": {},
     "output_type": "execute_result"
    }
   ],
   "source": [
    "##Manually creating numpy arrays\n",
    "\n",
    "list1 = [10,20,30,40,50,60,70]  \n",
    "\n",
    "arr1 = np.array(list1)\n",
    "arr1"
   ]
  },
  {
   "cell_type": "code",
   "execution_count": 4,
   "id": "f698f9c6",
   "metadata": {},
   "outputs": [
    {
     "data": {
      "text/plain": [
       "array([ 20,  40,  60,  80, 100, 120, 140])"
      ]
     },
     "execution_count": 4,
     "metadata": {},
     "output_type": "execute_result"
    }
   ],
   "source": [
    "arr1 * 2"
   ]
  },
  {
   "cell_type": "code",
   "execution_count": 5,
   "id": "81df8f43",
   "metadata": {},
   "outputs": [
    {
     "data": {
      "text/plain": [
       "1"
      ]
     },
     "execution_count": 5,
     "metadata": {},
     "output_type": "execute_result"
    }
   ],
   "source": [
    "arr1.ndim #to show the dimension of the array"
   ]
  },
  {
   "cell_type": "code",
   "execution_count": 6,
   "id": "b065adea",
   "metadata": {},
   "outputs": [
    {
     "data": {
      "text/plain": [
       "array([1, 2, 3, 4])"
      ]
     },
     "execution_count": 6,
     "metadata": {},
     "output_type": "execute_result"
    }
   ],
   "source": [
    "# Creating an array from a Tuple\n",
    "tup = (1,2,3,4)\n",
    "np.array(tup)"
   ]
  },
  {
   "cell_type": "code",
   "execution_count": 7,
   "id": "7eb67cc4",
   "metadata": {},
   "outputs": [
    {
     "data": {
      "text/plain": [
       "array([[1, 2, 3, 4],\n",
       "       [4, 5, 6, 7]])"
      ]
     },
     "execution_count": 7,
     "metadata": {},
     "output_type": "execute_result"
    }
   ],
   "source": [
    "# Creating a 2-D Array\n",
    "\n",
    "arr_2d = np.array([[1,2,3,4], [4,5,6,7]]) # Lists within a List\n",
    "arr_2d"
   ]
  },
  {
   "cell_type": "code",
   "execution_count": 8,
   "id": "1bd03da9",
   "metadata": {},
   "outputs": [
    {
     "data": {
      "text/plain": [
       "2"
      ]
     },
     "execution_count": 8,
     "metadata": {},
     "output_type": "execute_result"
    }
   ],
   "source": [
    "arr_2d.ndim"
   ]
  },
  {
   "cell_type": "code",
   "execution_count": 10,
   "id": "5e30e9b1",
   "metadata": {},
   "outputs": [
    {
     "data": {
      "text/plain": [
       "(2, 4)"
      ]
     },
     "execution_count": 10,
     "metadata": {},
     "output_type": "execute_result"
    }
   ],
   "source": [
    "arr_2d.shape"
   ]
  },
  {
   "cell_type": "code",
   "execution_count": 11,
   "id": "5305d3dd",
   "metadata": {},
   "outputs": [],
   "source": [
    "## Creating arrays using functions"
   ]
  },
  {
   "cell_type": "markdown",
   "id": "126c16f1",
   "metadata": {},
   "source": [
    "The other common way is to initialise arrays using built-in functions.\n",
    "\n",
    "The following ways are commonly used:\n",
    "\n",
    "    np.ones(): Create array of 1s\n",
    "    np.zeros(): Create array of 0s\n",
    "    np.random.random(): Create array of random numbers\n",
    "    np.arange(): Create array with increments of a fixed step size\n",
    "    np.linspace(): Create array of fixed length\n",
    "    np.diag(): Constructs a diagonal array"
   ]
  },
  {
   "cell_type": "code",
   "execution_count": 12,
   "id": "151ffa62",
   "metadata": {},
   "outputs": [
    {
     "data": {
      "text/plain": [
       "array([  5,  10,  15,  20,  25,  30,  35,  40,  45,  50,  55,  60,  65,\n",
       "        70,  75,  80,  85,  90,  95, 100])"
      ]
     },
     "execution_count": 12,
     "metadata": {},
     "output_type": "execute_result"
    }
   ],
   "source": [
    "arr1 = np.arange(5, 101, 5)     #(start, stop, step)\n",
    "arr1"
   ]
  },
  {
   "cell_type": "code",
   "execution_count": 14,
   "id": "65bf617e",
   "metadata": {},
   "outputs": [
    {
     "data": {
      "text/plain": [
       "array([[0, 1, 2],\n",
       "       [3, 4, 5],\n",
       "       [6, 7, 8]])"
      ]
     },
     "execution_count": 14,
     "metadata": {},
     "output_type": "execute_result"
    }
   ],
   "source": [
    "arr2 = np.arange(9).reshape(3,3)\n",
    "\n",
    "#reshape numbers should multiply to the value of the number of elements in the array\n",
    "#.reshape(rows, columns)\n",
    "\n",
    "arr2"
   ]
  },
  {
   "cell_type": "code",
   "execution_count": 15,
   "id": "39b411ad",
   "metadata": {},
   "outputs": [
    {
     "data": {
      "text/plain": [
       "array([0, 0, 0, 0, 0])"
      ]
     },
     "execution_count": 15,
     "metadata": {},
     "output_type": "execute_result"
    }
   ],
   "source": [
    "np.zeros(5, dtype = 'int')"
   ]
  },
  {
   "cell_type": "code",
   "execution_count": 16,
   "id": "cffd5a85",
   "metadata": {},
   "outputs": [
    {
     "data": {
      "text/plain": [
       "array([[10, 10, 10, 10, 10],\n",
       "       [10, 10, 10, 10, 10],\n",
       "       [10, 10, 10, 10, 10],\n",
       "       [10, 10, 10, 10, 10],\n",
       "       [10, 10, 10, 10, 10]])"
      ]
     },
     "execution_count": 16,
     "metadata": {},
     "output_type": "execute_result"
    }
   ],
   "source": [
    "np.full((5,5), 10)  #create an array of 5x5 values where every value is 10"
   ]
  },
  {
   "cell_type": "code",
   "execution_count": 17,
   "id": "18bc90ea",
   "metadata": {},
   "outputs": [
    {
     "data": {
      "text/plain": [
       "array([0.07362188, 0.83691654, 0.10144149, 0.05234884, 0.40340886,\n",
       "       0.12010989, 0.504696  ])"
      ]
     },
     "execution_count": 17,
     "metadata": {},
     "output_type": "execute_result"
    }
   ],
   "source": [
    "np.random.random(7)    #random data between 0-1"
   ]
  },
  {
   "cell_type": "code",
   "execution_count": 19,
   "id": "16ebc93d",
   "metadata": {},
   "outputs": [
    {
     "data": {
      "text/plain": [
       "array([7, 6, 4, 1, 4])"
      ]
     },
     "execution_count": 19,
     "metadata": {},
     "output_type": "execute_result"
    }
   ],
   "source": [
    "np.random.randint(8, size = 5)  # random int between 0-8"
   ]
  },
  {
   "cell_type": "code",
   "execution_count": 39,
   "id": "a062654a",
   "metadata": {},
   "outputs": [
    {
     "data": {
      "text/plain": [
       "array([ 6, 14, 12,  9, 11,  7, 10])"
      ]
     },
     "execution_count": 39,
     "metadata": {},
     "output_type": "execute_result"
    }
   ],
   "source": [
    "np.random.randint(4, 15, size=7)  #between 4 and 15. 7 values"
   ]
  },
  {
   "cell_type": "code",
   "execution_count": 20,
   "id": "3d499f47",
   "metadata": {},
   "outputs": [
    {
     "data": {
      "text/plain": [
       "array([[101,   0,   0,   0],\n",
       "       [  0, 202,   0,   0],\n",
       "       [  0,   0, 303,   0],\n",
       "       [  0,   0,   0, 404]])"
      ]
     },
     "execution_count": 20,
     "metadata": {},
     "output_type": "execute_result"
    }
   ],
   "source": [
    "#create array using diag function\n",
    "arr_diag = np.diag([101,202,303,404]) #constructs a diagonal array.\n",
    "arr_diag"
   ]
  },
  {
   "cell_type": "code",
   "execution_count": 21,
   "id": "72927aa2",
   "metadata": {},
   "outputs": [
    {
     "data": {
      "text/plain": [
       "array([101, 202, 303, 404])"
      ]
     },
     "execution_count": 21,
     "metadata": {},
     "output_type": "execute_result"
    }
   ],
   "source": [
    "# Extract diagonal values\n",
    "np.diag(arr_diag)"
   ]
  },
  {
   "cell_type": "markdown",
   "id": "8e32a2ed",
   "metadata": {},
   "source": [
    "### DATATYPES "
   ]
  },
  {
   "cell_type": "code",
   "execution_count": 22,
   "id": "32a1111d",
   "metadata": {},
   "outputs": [
    {
     "data": {
      "text/plain": [
       "array([ 0.,  1.,  2.,  3.,  4.,  5.,  6.,  7.,  8.,  9., 10., 11., 12.,\n",
       "       13., 14.])"
      ]
     },
     "execution_count": 22,
     "metadata": {},
     "output_type": "execute_result"
    }
   ],
   "source": [
    "#You can explicitly specify which data-type you want:\n",
    "\n",
    "a_float = np.arange(15, dtype='float')\n",
    "a_float"
   ]
  },
  {
   "cell_type": "code",
   "execution_count": 25,
   "id": "d5d873ca",
   "metadata": {},
   "outputs": [
    {
     "name": "stdout",
     "output_type": "stream",
     "text": [
      "complex128\n"
     ]
    }
   ],
   "source": [
    "d = np.array([1+2j, 2+4j])   #Complex datatype\n",
    "\n",
    "print(d.dtype)"
   ]
  },
  {
   "cell_type": "code",
   "execution_count": 27,
   "id": "ed0cee07",
   "metadata": {},
   "outputs": [
    {
     "data": {
      "text/plain": [
       "dtype('bool')"
      ]
     },
     "execution_count": 27,
     "metadata": {},
     "output_type": "execute_result"
    }
   ],
   "source": [
    "b = np.array([True, False, True, False])  #Boolean datatype\n",
    "\n",
    "b.dtype"
   ]
  },
  {
   "cell_type": "markdown",
   "id": "a19819e9",
   "metadata": {},
   "source": [
    "## INDEXING "
   ]
  },
  {
   "cell_type": "markdown",
   "id": "cb799bda",
   "metadata": {},
   "source": [
    "The items of an array can be accessed and assigned to the same way as other Python sequences using its index values. The index values start from 0.\n",
    "\n",
    "     for 1d, we write like variablename[index number] OR variablename[first:second]\n",
    "     for 2d, you write it as variablename[ROW index number, COL index number] \n",
    "\n",
    "\n",
    "Axis 0 is row\n",
    "\n",
    "Axis 1 is column\n",
    "\n",
    "\n"
   ]
  },
  {
   "cell_type": "code",
   "execution_count": 28,
   "id": "e40697d1",
   "metadata": {},
   "outputs": [
    {
     "data": {
      "text/plain": [
       "array([[101,   0,   0,   0],\n",
       "       [  0, 202,   0,   0],\n",
       "       [  0,   0, 303,   0],\n",
       "       [  0,   0,   0, 404]])"
      ]
     },
     "execution_count": 28,
     "metadata": {},
     "output_type": "execute_result"
    }
   ],
   "source": [
    "arr_diag"
   ]
  },
  {
   "cell_type": "code",
   "execution_count": 30,
   "id": "d0553626",
   "metadata": {},
   "outputs": [
    {
     "data": {
      "text/plain": [
       "303"
      ]
     },
     "execution_count": 30,
     "metadata": {},
     "output_type": "execute_result"
    }
   ],
   "source": [
    "arr_diag[2, 2]"
   ]
  },
  {
   "cell_type": "code",
   "execution_count": 31,
   "id": "daf3bd40",
   "metadata": {},
   "outputs": [
    {
     "data": {
      "text/plain": [
       "array([[101,   0,   0,   0],\n",
       "       [  0, 202,   0,   0],\n",
       "       [  0,  33, 303,   0],\n",
       "       [  0,   0,   0, 404]])"
      ]
     },
     "execution_count": 31,
     "metadata": {},
     "output_type": "execute_result"
    }
   ],
   "source": [
    "arr_diag[2, 1] = 33 \n",
    "#assigning value\n",
    "arr_diag"
   ]
  },
  {
   "cell_type": "markdown",
   "id": "a1af37f7",
   "metadata": {},
   "source": [
    "## SLICING"
   ]
  },
  {
   "cell_type": "code",
   "execution_count": 33,
   "id": "da6bf81f",
   "metadata": {},
   "outputs": [
    {
     "data": {
      "text/plain": [
       "array([0, 1, 2, 3, 4, 5, 6, 7, 8, 9])"
      ]
     },
     "execution_count": 33,
     "metadata": {},
     "output_type": "execute_result"
    }
   ],
   "source": [
    "#we can also combine assignment and slicing:\n",
    "\n",
    "arr_sl = np.arange(10)\n",
    "arr_sl"
   ]
  },
  {
   "cell_type": "code",
   "execution_count": 34,
   "id": "5a10f0fb",
   "metadata": {},
   "outputs": [
    {
     "data": {
      "text/plain": [
       "array([15, 15, 15, 15, 15, 15, 15, 16, 16, 16])"
      ]
     },
     "execution_count": 34,
     "metadata": {},
     "output_type": "execute_result"
    }
   ],
   "source": [
    "arr_sl[:7] = 15\n",
    "arr_sl[7:] = 16\n",
    "arr_sl"
   ]
  },
  {
   "cell_type": "code",
   "execution_count": 36,
   "id": "95976a7e",
   "metadata": {},
   "outputs": [
    {
     "data": {
      "text/plain": [
       "array([[ 1,  4,  7],\n",
       "       [10, 13, 16],\n",
       "       [19, 22, 25]])"
      ]
     },
     "execution_count": 36,
     "metadata": {},
     "output_type": "execute_result"
    }
   ],
   "source": [
    "arr2 = np.arange(1,26,3).reshape(3,3)\n",
    "arr2"
   ]
  },
  {
   "cell_type": "code",
   "execution_count": 37,
   "id": "6227524e",
   "metadata": {},
   "outputs": [
    {
     "data": {
      "text/plain": [
       "array([[ 4,  7],\n",
       "       [13, 16]])"
      ]
     },
     "execution_count": 37,
     "metadata": {},
     "output_type": "execute_result"
    }
   ],
   "source": [
    "arr2[0:2,1:]"
   ]
  },
  {
   "cell_type": "code",
   "execution_count": 38,
   "id": "94acf463",
   "metadata": {},
   "outputs": [
    {
     "data": {
      "text/plain": [
       "array([[ 1,  4,  7],\n",
       "       [10, 12, 12],\n",
       "       [19, 12, 12]])"
      ]
     },
     "execution_count": 38,
     "metadata": {},
     "output_type": "execute_result"
    }
   ],
   "source": [
    "arr2[1:, 1:] = 12\n",
    "arr2"
   ]
  },
  {
   "cell_type": "code",
   "execution_count": 40,
   "id": "77a723d7",
   "metadata": {},
   "outputs": [
    {
     "data": {
      "text/plain": [
       "array([[ 4,  7],\n",
       "       [12, 12],\n",
       "       [12, 12]])"
      ]
     },
     "execution_count": 40,
     "metadata": {},
     "output_type": "execute_result"
    }
   ],
   "source": [
    "arr2[0:3,1:3]"
   ]
  },
  {
   "cell_type": "code",
   "execution_count": 42,
   "id": "69ffe6a1",
   "metadata": {},
   "outputs": [
    {
     "data": {
      "text/plain": [
       "array([10, 12, 12])"
      ]
     },
     "execution_count": 42,
     "metadata": {},
     "output_type": "execute_result"
    }
   ],
   "source": [
    "#if i want only one row\n",
    "arr2[1]"
   ]
  },
  {
   "cell_type": "code",
   "execution_count": 45,
   "id": "d7b49a0d",
   "metadata": {},
   "outputs": [
    {
     "data": {
      "text/plain": [
       "array([ 7, 12, 12])"
      ]
     },
     "execution_count": 45,
     "metadata": {},
     "output_type": "execute_result"
    }
   ],
   "source": [
    "#if i want only one column       - the column data will come in one row array\n",
    "arr2[0:3,2]"
   ]
  },
  {
   "cell_type": "code",
   "execution_count": null,
   "id": "f74a0214",
   "metadata": {},
   "outputs": [],
   "source": []
  }
 ],
 "metadata": {
  "kernelspec": {
   "display_name": "Python 3 (ipykernel)",
   "language": "python",
   "name": "python3"
  },
  "language_info": {
   "codemirror_mode": {
    "name": "ipython",
    "version": 3
   },
   "file_extension": ".py",
   "mimetype": "text/x-python",
   "name": "python",
   "nbconvert_exporter": "python",
   "pygments_lexer": "ipython3",
   "version": "3.10.9"
  }
 },
 "nbformat": 4,
 "nbformat_minor": 5
}
