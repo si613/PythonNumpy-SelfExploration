{
 "cells": [
  {
   "cell_type": "code",
   "execution_count": 1,
   "id": "953e75be",
   "metadata": {},
   "outputs": [],
   "source": [
    "import numpy as np"
   ]
  },
  {
   "cell_type": "markdown",
   "id": "d737fda4",
   "metadata": {},
   "source": [
    "We have some ways to manipulate the arrays, these are - \n",
    "\n",
    "    - numpy.concatenate(a,b)\n",
    "    - numpy.vstack(a,b)\n",
    "    - numpy.hstack(a,b)\n",
    "    - numpy.column_stack()\n",
    "    - numpy.hsplit()\n",
    "    - numpy.vsplit()\n",
    "    - numpy.T\n",
    "    - numpy.ravel()"
   ]
  },
  {
   "cell_type": "code",
   "execution_count": 2,
   "id": "89a74133",
   "metadata": {},
   "outputs": [],
   "source": [
    "arr1 = np.arange(1,10).reshape(3,3)\n",
    "arr2 = np.arange(10,19).reshape(3,3)"
   ]
  },
  {
   "cell_type": "code",
   "execution_count": 5,
   "id": "bfefb09d",
   "metadata": {},
   "outputs": [
    {
     "data": {
      "text/plain": [
       "array([[1, 2, 3],\n",
       "       [4, 5, 6],\n",
       "       [7, 8, 9]])"
      ]
     },
     "execution_count": 5,
     "metadata": {},
     "output_type": "execute_result"
    }
   ],
   "source": [
    "arr1"
   ]
  },
  {
   "cell_type": "code",
   "execution_count": 6,
   "id": "7e700442",
   "metadata": {},
   "outputs": [
    {
     "data": {
      "text/plain": [
       "array([[10, 11, 12],\n",
       "       [13, 14, 15],\n",
       "       [16, 17, 18]])"
      ]
     },
     "execution_count": 6,
     "metadata": {},
     "output_type": "execute_result"
    }
   ],
   "source": [
    "arr2"
   ]
  },
  {
   "cell_type": "code",
   "execution_count": 8,
   "id": "fae44583",
   "metadata": {},
   "outputs": [
    {
     "data": {
      "text/plain": [
       "array([[ 1,  2,  3, 10, 11, 12],\n",
       "       [ 4,  5,  6, 13, 14, 15],\n",
       "       [ 7,  8,  9, 16, 17, 18]])"
      ]
     },
     "execution_count": 8,
     "metadata": {},
     "output_type": "execute_result"
    }
   ],
   "source": [
    "np.hstack((arr1, arr2))"
   ]
  },
  {
   "cell_type": "code",
   "execution_count": 9,
   "id": "42523a1a",
   "metadata": {},
   "outputs": [
    {
     "data": {
      "text/plain": [
       "array([[ 1,  2,  3],\n",
       "       [ 4,  5,  6],\n",
       "       [ 7,  8,  9],\n",
       "       [10, 11, 12],\n",
       "       [13, 14, 15],\n",
       "       [16, 17, 18]])"
      ]
     },
     "execution_count": 9,
     "metadata": {},
     "output_type": "execute_result"
    }
   ],
   "source": [
    "np.vstack((arr1, arr2)) #you can combine any number of arrays, just the no. of rows and cols need to be same\n",
    "\n",
    "#vstack is top and bottom (vertical) stacking"
   ]
  },
  {
   "cell_type": "code",
   "execution_count": 7,
   "id": "3fd89b29",
   "metadata": {},
   "outputs": [
    {
     "data": {
      "text/plain": [
       "array([[ 1,  2,  3],\n",
       "       [ 4,  5,  6],\n",
       "       [ 7,  8,  9],\n",
       "       [10, 11, 12],\n",
       "       [13, 14, 15],\n",
       "       [16, 17, 18]])"
      ]
     },
     "execution_count": 7,
     "metadata": {},
     "output_type": "execute_result"
    }
   ],
   "source": [
    "concatarr = np.concatenate((arr1, arr2), axis=0)  \n",
    "\n",
    "#similar to vstack by default(axis 0) but it can do both vstack and hstack\n",
    "concatarr\n",
    "\n",
    "#concatenation = side by side concat OR top and bottom concat"
   ]
  },
  {
   "cell_type": "code",
   "execution_count": 10,
   "id": "bd9ba968",
   "metadata": {},
   "outputs": [
    {
     "data": {
      "text/plain": [
       "array([[ 1,  2,  3, 10, 11, 12],\n",
       "       [ 4,  5,  6, 13, 14, 15],\n",
       "       [ 7,  8,  9, 16, 17, 18]])"
      ]
     },
     "execution_count": 10,
     "metadata": {},
     "output_type": "execute_result"
    }
   ],
   "source": [
    "np.column_stack((arr1, arr2))"
   ]
  },
  {
   "cell_type": "code",
   "execution_count": 12,
   "id": "85ab1ed6",
   "metadata": {},
   "outputs": [
    {
     "data": {
      "text/plain": [
       "array([[ 0,  1,  2,  3],\n",
       "       [ 4,  5,  6,  7],\n",
       "       [ 8,  9, 10, 11],\n",
       "       [12, 13, 14, 15],\n",
       "       [16, 17, 18, 19]])"
      ]
     },
     "execution_count": 12,
     "metadata": {},
     "output_type": "execute_result"
    }
   ],
   "source": [
    "arr_new = np.arange(20).reshape(5,4)\n",
    "arr_new"
   ]
  },
  {
   "cell_type": "code",
   "execution_count": 13,
   "id": "c65f06c5",
   "metadata": {},
   "outputs": [
    {
     "data": {
      "text/plain": [
       "[array([[0, 1, 2, 3]]),\n",
       " array([[4, 5, 6, 7]]),\n",
       " array([[ 8,  9, 10, 11]]),\n",
       " array([[12, 13, 14, 15]]),\n",
       " array([[16, 17, 18, 19]])]"
      ]
     },
     "execution_count": 13,
     "metadata": {},
     "output_type": "execute_result"
    }
   ],
   "source": [
    "np.vsplit(arr_new, 5)"
   ]
  },
  {
   "cell_type": "code",
   "execution_count": 14,
   "id": "07e82787",
   "metadata": {},
   "outputs": [
    {
     "data": {
      "text/plain": [
       "[array([[ 0],\n",
       "        [ 4],\n",
       "        [ 8],\n",
       "        [12],\n",
       "        [16]]),\n",
       " array([[ 1],\n",
       "        [ 5],\n",
       "        [ 9],\n",
       "        [13],\n",
       "        [17]]),\n",
       " array([[ 2],\n",
       "        [ 6],\n",
       "        [10],\n",
       "        [14],\n",
       "        [18]]),\n",
       " array([[ 3],\n",
       "        [ 7],\n",
       "        [11],\n",
       "        [15],\n",
       "        [19]])]"
      ]
     },
     "execution_count": 14,
     "metadata": {},
     "output_type": "execute_result"
    }
   ],
   "source": [
    "np.hsplit(arr_new, 4)"
   ]
  },
  {
   "cell_type": "code",
   "execution_count": 15,
   "id": "11475b5b",
   "metadata": {},
   "outputs": [
    {
     "data": {
      "text/plain": [
       "array([[67, 76, 56, 80, 74, 62, 71, 66, 70, 59],\n",
       "       [72, 52, 58, 55, 78, 85, 62, 50, 77, 85],\n",
       "       [76, 77, 63, 54, 66, 88, 81, 68, 71, 52],\n",
       "       [61, 70, 84, 52, 50, 56, 55, 74, 66, 61],\n",
       "       [68, 81, 53, 67, 50, 70, 75, 52, 86, 63],\n",
       "       [64, 56, 60, 51, 69, 50, 75, 74, 52, 54],\n",
       "       [53, 82, 70, 86, 80, 79, 87, 61, 83, 84],\n",
       "       [67, 61, 57, 76, 83, 78, 73, 72, 62, 76],\n",
       "       [70, 54, 75, 70, 85, 73, 85, 65, 65, 86],\n",
       "       [85, 50, 77, 57, 89, 53, 75, 61, 80, 84],\n",
       "       [88, 83, 58, 66, 80, 66, 77, 53, 88, 89],\n",
       "       [61, 53, 67, 60, 83, 64, 61, 58, 50, 53],\n",
       "       [72, 79, 80, 86, 83, 86, 59, 84, 65, 77],\n",
       "       [55, 70, 86, 71, 72, 68, 69, 50, 54, 63],\n",
       "       [88, 65, 78, 75, 57, 83, 83, 83, 87, 65],\n",
       "       [87, 59, 77, 56, 70, 81, 71, 78, 60, 55]])"
      ]
     },
     "execution_count": 15,
     "metadata": {},
     "output_type": "execute_result"
    }
   ],
   "source": [
    "#SPLITTING\n",
    "\n",
    "big_arr = np.random.randint(50,90, size =(16,10))\n",
    "big_arr"
   ]
  },
  {
   "cell_type": "code",
   "execution_count": 16,
   "id": "d5412819",
   "metadata": {},
   "outputs": [],
   "source": [
    "big1, big2 = np.hsplit(big_arr, 2)"
   ]
  },
  {
   "cell_type": "code",
   "execution_count": 17,
   "id": "b40d1a62",
   "metadata": {},
   "outputs": [
    {
     "data": {
      "text/plain": [
       "array([[67, 76, 56, 80, 74],\n",
       "       [72, 52, 58, 55, 78],\n",
       "       [76, 77, 63, 54, 66],\n",
       "       [61, 70, 84, 52, 50],\n",
       "       [68, 81, 53, 67, 50],\n",
       "       [64, 56, 60, 51, 69],\n",
       "       [53, 82, 70, 86, 80],\n",
       "       [67, 61, 57, 76, 83],\n",
       "       [70, 54, 75, 70, 85],\n",
       "       [85, 50, 77, 57, 89],\n",
       "       [88, 83, 58, 66, 80],\n",
       "       [61, 53, 67, 60, 83],\n",
       "       [72, 79, 80, 86, 83],\n",
       "       [55, 70, 86, 71, 72],\n",
       "       [88, 65, 78, 75, 57],\n",
       "       [87, 59, 77, 56, 70]])"
      ]
     },
     "execution_count": 17,
     "metadata": {},
     "output_type": "execute_result"
    }
   ],
   "source": [
    "big1"
   ]
  },
  {
   "cell_type": "code",
   "execution_count": 18,
   "id": "37205b34",
   "metadata": {},
   "outputs": [
    {
     "data": {
      "text/plain": [
       "array([[62, 71, 66, 70, 59],\n",
       "       [85, 62, 50, 77, 85],\n",
       "       [88, 81, 68, 71, 52],\n",
       "       [56, 55, 74, 66, 61],\n",
       "       [70, 75, 52, 86, 63],\n",
       "       [50, 75, 74, 52, 54],\n",
       "       [79, 87, 61, 83, 84],\n",
       "       [78, 73, 72, 62, 76],\n",
       "       [73, 85, 65, 65, 86],\n",
       "       [53, 75, 61, 80, 84],\n",
       "       [66, 77, 53, 88, 89],\n",
       "       [64, 61, 58, 50, 53],\n",
       "       [86, 59, 84, 65, 77],\n",
       "       [68, 69, 50, 54, 63],\n",
       "       [83, 83, 83, 87, 65],\n",
       "       [81, 71, 78, 60, 55]])"
      ]
     },
     "execution_count": 18,
     "metadata": {},
     "output_type": "execute_result"
    }
   ],
   "source": [
    "big2"
   ]
  },
  {
   "cell_type": "code",
   "execution_count": 19,
   "id": "b83b4494",
   "metadata": {},
   "outputs": [],
   "source": [
    "big3, big4 = np.vsplit(big_arr, 2)"
   ]
  },
  {
   "cell_type": "code",
   "execution_count": 20,
   "id": "53ecae9b",
   "metadata": {},
   "outputs": [
    {
     "data": {
      "text/plain": [
       "array([[67, 76, 56, 80, 74, 62, 71, 66, 70, 59],\n",
       "       [72, 52, 58, 55, 78, 85, 62, 50, 77, 85],\n",
       "       [76, 77, 63, 54, 66, 88, 81, 68, 71, 52],\n",
       "       [61, 70, 84, 52, 50, 56, 55, 74, 66, 61],\n",
       "       [68, 81, 53, 67, 50, 70, 75, 52, 86, 63],\n",
       "       [64, 56, 60, 51, 69, 50, 75, 74, 52, 54],\n",
       "       [53, 82, 70, 86, 80, 79, 87, 61, 83, 84],\n",
       "       [67, 61, 57, 76, 83, 78, 73, 72, 62, 76]])"
      ]
     },
     "execution_count": 20,
     "metadata": {},
     "output_type": "execute_result"
    }
   ],
   "source": [
    "big3"
   ]
  },
  {
   "cell_type": "code",
   "execution_count": 21,
   "id": "6fceab4d",
   "metadata": {},
   "outputs": [
    {
     "data": {
      "text/plain": [
       "array([[70, 54, 75, 70, 85, 73, 85, 65, 65, 86],\n",
       "       [85, 50, 77, 57, 89, 53, 75, 61, 80, 84],\n",
       "       [88, 83, 58, 66, 80, 66, 77, 53, 88, 89],\n",
       "       [61, 53, 67, 60, 83, 64, 61, 58, 50, 53],\n",
       "       [72, 79, 80, 86, 83, 86, 59, 84, 65, 77],\n",
       "       [55, 70, 86, 71, 72, 68, 69, 50, 54, 63],\n",
       "       [88, 65, 78, 75, 57, 83, 83, 83, 87, 65],\n",
       "       [87, 59, 77, 56, 70, 81, 71, 78, 60, 55]])"
      ]
     },
     "execution_count": 21,
     "metadata": {},
     "output_type": "execute_result"
    }
   ],
   "source": [
    "big4"
   ]
  },
  {
   "cell_type": "code",
   "execution_count": 23,
   "id": "1fc80a9d",
   "metadata": {},
   "outputs": [
    {
     "data": {
      "text/plain": [
       "array([[10, 11, 12],\n",
       "       [13, 14, 15],\n",
       "       [16, 17, 18]])"
      ]
     },
     "execution_count": 23,
     "metadata": {},
     "output_type": "execute_result"
    }
   ],
   "source": [
    "#Ravel and transpose\n",
    "arr2"
   ]
  },
  {
   "cell_type": "code",
   "execution_count": 25,
   "id": "fd20e1a4",
   "metadata": {},
   "outputs": [
    {
     "data": {
      "text/plain": [
       "array([[10, 13, 16],\n",
       "       [11, 14, 17],\n",
       "       [12, 15, 18]])"
      ]
     },
     "execution_count": 25,
     "metadata": {},
     "output_type": "execute_result"
    }
   ],
   "source": [
    "arr2.T      #transpose- rows become columns and columns become rows"
   ]
  },
  {
   "cell_type": "code",
   "execution_count": 26,
   "id": "a9675dbe",
   "metadata": {},
   "outputs": [
    {
     "data": {
      "text/plain": [
       "array([10, 11, 12, 13, 14, 15, 16, 17, 18])"
      ]
     },
     "execution_count": 26,
     "metadata": {},
     "output_type": "execute_result"
    }
   ],
   "source": [
    "arr2.ravel()  \n",
    "#ravel - flattens your data\n",
    "#which means 3d data turns to 1d data; 2d data turns 1d--> any higher dimension turns 1d"
   ]
  },
  {
   "cell_type": "code",
   "execution_count": null,
   "id": "101c9f4c",
   "metadata": {},
   "outputs": [],
   "source": []
  }
 ],
 "metadata": {
  "kernelspec": {
   "display_name": "Python 3 (ipykernel)",
   "language": "python",
   "name": "python3"
  },
  "language_info": {
   "codemirror_mode": {
    "name": "ipython",
    "version": 3
   },
   "file_extension": ".py",
   "mimetype": "text/x-python",
   "name": "python",
   "nbconvert_exporter": "python",
   "pygments_lexer": "ipython3",
   "version": "3.10.9"
  }
 },
 "nbformat": 4,
 "nbformat_minor": 5
}
